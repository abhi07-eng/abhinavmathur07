{
 "cells": [
  {
   "cell_type": "code",
   "execution_count": 2,
   "metadata": {},
   "outputs": [
    {
     "name": "stdout",
     "output_type": "stream",
     "text": [
      "[4, 5, 6, 8]\n"
     ]
    }
   ],
   "source": [
    "\"\"\"\"Q1. Write a program to get a user input in the form of a list data type. Return a list by removing all the duplicates.\n",
    "Sample Input -> [4, 4, 5, 6, 8, 4, 5]\n",
    "Output -> [4, 5, 6, 8]\"\"\"\n",
    "\n",
    "\n",
    "def Remove(duplicate): \n",
    "    take = [] \n",
    "    for num in duplicate: \n",
    "        if num not in take: \n",
    "            take.append(num) \n",
    "    return take \n",
    "duplicate = [4, 4, 5, 6, 8, 4, 5] \n",
    "print(Remove(duplicate))\n"
   ]
  },
  {
   "cell_type": "code",
   "execution_count": 3,
   "metadata": {},
   "outputs": [
    {
     "name": "stdout",
     "output_type": "stream",
     "text": [
      "(1, 2, 3, 4, 5, 6, 7)\n",
      "Length of Tuple : 7\n",
      "Sum of tuple :  28\n",
      "Largest in tuple : 1\n",
      "Smallest in tuple : 7\n"
     ]
    }
   ],
   "source": [
    "\"\"\"\"Q2. Write a program to create a user defined tuple with ‘int’ data type and perform the following operations:\n",
    "    Find the length of tuples\n",
    "    Find the sum of all the elements of a tuple\n",
    "    Find the largest and smallest elements of a tuple\"\"\"\n",
    "\n",
    "\n",
    "user = (1, 2, 3, 4, 5, 6, 7)\n",
    "print(user)\n",
    "\n",
    "# Length of tuple\n",
    "print(\"Length of Tuple :\", len(user))\n",
    "\n",
    "# # Sum of tuple\n",
    "print (\"Sum of tuple : \", sum(user))\n",
    "\n",
    "# # Largest and smallest \n",
    "print(\"Largest in tuple :\", min(user))\n",
    "print(\"Smallest in tuple :\",max(user))"
   ]
  },
  {
   "cell_type": "code",
   "execution_count": 6,
   "metadata": {},
   "outputs": [
    {
     "name": "stdout",
     "output_type": "stream",
     "text": [
      "Output Number is =  15\n"
     ]
    }
   ],
   "source": [
    "\"\"\"\"Q3. Given a number and ith bit, change the ith bit of that number to 1.\n",
    "Sample Input -> num = 13, i = 1\n",
    "Output -> 15 \"\"\"\n",
    "\n",
    "\n",
    "def setithBit(n,i):\n",
    "    return ((1 << i) | n)\n",
    "n = 13 \n",
    "i = 1\n",
    "print(\"Output Number is = \", setithBit(n, i))"
   ]
  },
  {
   "cell_type": "code",
   "execution_count": 8,
   "metadata": {},
   "outputs": [
    {
     "name": "stdout",
     "output_type": "stream",
     "text": [
      "Enter the number\n",
      "7\n",
      "Odd\n"
     ]
    }
   ],
   "source": [
    "\"\"\"\"Q4. Given a number, print 1 if the number is odd otherwise print 0.\"\"\"\n",
    "\n",
    "n = [\"Even\", \"Odd\"] \n",
    "print (\"Enter the number\") \n",
    "n1 = input() \n",
    "print (n[int(n1) % 2])"
   ]
  },
  {
   "cell_type": "code",
   "execution_count": 11,
   "metadata": {},
   "outputs": [
    {
     "name": "stdout",
     "output_type": "stream",
     "text": [
      "Sorted merged list :\n",
      "1\n",
      "2\n",
      "3\n",
      "4\n",
      "5\n",
      "6\n",
      "7\n",
      "8\n"
     ]
    }
   ],
   "source": [
    "#Q5. Given two lists of integers A and B. Write a program to merge them into a single sorted list that contains every item from list A and B in ascending order\n",
    "\n",
    "def sortedMerge(a, b, res, n, m): \n",
    "    i, j, k = 0, 0, 0\n",
    "    while (i < n): \n",
    "        res[k] = a[i] \n",
    "        i += 1\n",
    "        k += 1\n",
    "    while (j < m): \n",
    "        res[k] = b[j] \n",
    "        j += 1\n",
    "        k += 1\n",
    "    res.sort() \n",
    "a = [ 1, 2, 3, 4 ] \n",
    "b = [ 5, 6, 7, 8 ] \n",
    "n = len(a) \n",
    "m = len(b) \n",
    "res = [0 for i in range(n + m)] \n",
    "sortedMerge(a, b, res, n, m) \n",
    "print (\"Sorted merged list :\")\n",
    "for i in range(n + m): \n",
    "    print (res[i])"
   ]
  },
  {
   "cell_type": "code",
   "execution_count": 12,
   "metadata": {},
   "outputs": [
    {
     "name": "stdout",
     "output_type": "stream",
     "text": [
      "('Oslo', 0)\n",
      "('Moscow', 50)\n",
      "('Berlin', 70)\n",
      "('Nairobi', 100)\n"
     ]
    }
   ],
   "source": [
    "\"\"\"\"Q6. Create a user defined dictionary to store names and marks of 5 students. Sort the dictionary according to marks and return this sorted dictionary to the user.\n",
    "Sample Input -> {'Berlin': 70, 'Oslo':0, 'Moscow':50, 'Nairobi':100}\n",
    "Output -> {'Oslo':0, 'Moscow':50, 'Berlin': 70, 'Nairobi':100}\"\"\"\n",
    "\n",
    "\n",
    "a1 = {'Berlin': 70, 'Oslo':0, 'Moscow':50, 'Nairobi':100}\n",
    "a1_sorted_keys = sorted(a1, key=a1.get, reverse=False)\n",
    "for r in a1_sorted_keys:\n",
    "    print ((r, a1[r]))"
   ]
  },
  {
   "cell_type": "code",
   "execution_count": null,
   "metadata": {},
   "outputs": [],
   "source": []
  }
 ],
 "metadata": {
  "kernelspec": {
   "display_name": "Python 3",
   "language": "python",
   "name": "python3"
  },
  "language_info": {
   "codemirror_mode": {
    "name": "ipython",
    "version": 3
   },
   "file_extension": ".py",
   "mimetype": "text/x-python",
   "name": "python",
   "nbconvert_exporter": "python",
   "pygments_lexer": "ipython3",
   "version": "3.7.4"
  }
 },
 "nbformat": 4,
 "nbformat_minor": 2
}
